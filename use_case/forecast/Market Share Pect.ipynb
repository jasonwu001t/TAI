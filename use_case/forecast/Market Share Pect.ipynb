{
 "cells": [
  {
   "cell_type": "code",
   "execution_count": null,
   "id": "e2a1e0f1",
   "metadata": {},
   "outputs": [],
   "source": []
  },
  {
   "cell_type": "markdown",
   "id": "a9243c4e",
   "metadata": {},
   "source": [
    "### Create sample data"
   ]
  },
  {
   "cell_type": "code",
   "execution_count": 3,
   "id": "096a6133",
   "metadata": {
    "scrolled": true
   },
   "outputs": [
    {
     "name": "stdout",
     "output_type": "stream",
     "text": [
      "Historical Data:\n",
      "                         Date       Value\n",
      "49 2024-07-28 22:11:02.085611  146.734942\n",
      "50 2024-08-04 22:11:02.085611   72.482593\n",
      "51 2024-08-11 22:11:02.085611  116.003142\n",
      "\n",
      "Forecasted Data:\n",
      "                         Date       Value\n",
      "49 2025-08-03 22:11:02.085611  129.788920\n",
      "50 2025-08-10 22:11:02.085611   81.549762\n",
      "51 2025-08-17 22:11:02.085611   95.331221\n"
     ]
    }
   ],
   "source": [
    "import pandas as pd\n",
    "import numpy as np\n",
    "import datetime\n",
    "\n",
    "# Generate dates for historical data (52 weeks ending each Sunday)\n",
    "end_date = datetime.datetime.now()\n",
    "historical_dates = pd.date_range(end=end_date, periods=52, freq='W-SUN')\n",
    "historical_values = np.random.uniform(low=50.0, high=150.0, size=52)\n",
    "\n",
    "# Generate dates for forecasted data (next 52 weeks ending each Sunday)\n",
    "forecast_dates = pd.date_range(start=end_date + pd.Timedelta(days=7), periods=52, freq='W-SUN')\n",
    "forecast_values = np.random.uniform(low=50.0, high=150.0, size=52)\n",
    "\n",
    "# Create DataFrames\n",
    "historical_data = pd.DataFrame({\n",
    "    'Date': historical_dates,\n",
    "    'Value': historical_values\n",
    "})\n",
    "\n",
    "forecast_data = pd.DataFrame({\n",
    "    'Date': forecast_dates,\n",
    "    'Value': forecast_values\n",
    "})\n",
    "\n",
    "# Display the DataFrames\n",
    "print(\"Historical Data:\")\n",
    "print(historical_data.tail(3))\n",
    "\n",
    "print(\"\\nForecasted Data:\")\n",
    "print(forecast_data.tail(3))\n"
   ]
  },
  {
   "cell_type": "markdown",
   "id": "68f297b6",
   "metadata": {},
   "source": [
    "### dd"
   ]
  },
  {
   "cell_type": "code",
   "execution_count": null,
   "id": "5b8e6153",
   "metadata": {},
   "outputs": [],
   "source": []
  }
 ],
 "metadata": {
  "kernelspec": {
   "display_name": "Python 3 (ipykernel)",
   "language": "python",
   "name": "python3"
  },
  "language_info": {
   "codemirror_mode": {
    "name": "ipython",
    "version": 3
   },
   "file_extension": ".py",
   "mimetype": "text/x-python",
   "name": "python",
   "nbconvert_exporter": "python",
   "pygments_lexer": "ipython3",
   "version": "3.11.5"
  }
 },
 "nbformat": 4,
 "nbformat_minor": 5
}

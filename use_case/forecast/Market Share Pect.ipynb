{
 "cells": [
  {
   "cell_type": "code",
   "execution_count": null,
   "id": "e2a1e0f1",
   "metadata": {},
   "outputs": [],
   "source": []
  },
  {
   "cell_type": "markdown",
   "id": "a9243c4e",
   "metadata": {},
   "source": [
    "### Create sample data"
   ]
  },
  {
   "cell_type": "code",
   "execution_count": 1,
   "id": "096a6133",
   "metadata": {
    "scrolled": true
   },
   "outputs": [
    {
     "name": "stdout",
     "output_type": "stream",
     "text": [
      "    datetime category  value\n",
      "0 2023-04-01        A    100\n",
      "1 2023-04-01        B    200\n",
      "2 2023-04-01        C    300\n",
      "3 2023-04-01        D    400\n",
      "4 2023-04-02        A    110\n",
      "5 2023-04-02        B    210\n",
      "6 2023-04-02        C    310\n",
      "7 2023-04-02        D    410\n"
     ]
    }
   ],
   "source": [
    "import pandas as pd\n",
    "\n",
    "# Generate a sample DataFrame\n",
    "data = {\n",
    "    'datetime': pd.to_datetime(['2023-04-01'] * 4 + ['2023-04-02'] * 4),\n",
    "    'category': ['A', 'B', 'C', 'D', 'A', 'B', 'C', 'D'],\n",
    "    'value': [100, 200, 300, 400, 110, 210, 310, 410]\n",
    "}\n",
    "\n",
    "sample_table = pd.DataFrame(data)\n",
    "\n",
    "# Display the DataFrame\n",
    "print(sample_table)\n"
   ]
  },
  {
   "cell_type": "code",
   "execution_count": 2,
   "id": "5b8e6153",
   "metadata": {},
   "outputs": [],
   "source": [
    "from TAI.analytics import DataAnalytics\n",
    "da = DataAnalytics()"
   ]
  },
  {
   "cell_type": "code",
   "execution_count": 3,
   "id": "1cb74030",
   "metadata": {},
   "outputs": [
    {
     "data": {
      "text/html": [
       "<div>\n",
       "<style scoped>\n",
       "    .dataframe tbody tr th:only-of-type {\n",
       "        vertical-align: middle;\n",
       "    }\n",
       "\n",
       "    .dataframe tbody tr th {\n",
       "        vertical-align: top;\n",
       "    }\n",
       "\n",
       "    .dataframe thead th {\n",
       "        text-align: right;\n",
       "    }\n",
       "</style>\n",
       "<table border=\"1\" class=\"dataframe\">\n",
       "  <thead>\n",
       "    <tr style=\"text-align: right;\">\n",
       "      <th></th>\n",
       "      <th>datetime</th>\n",
       "      <th>category</th>\n",
       "      <th>value</th>\n",
       "      <th>percentage</th>\n",
       "    </tr>\n",
       "  </thead>\n",
       "  <tbody>\n",
       "    <tr>\n",
       "      <th>0</th>\n",
       "      <td>2023-04-01</td>\n",
       "      <td>A</td>\n",
       "      <td>100</td>\n",
       "      <td>10.000000</td>\n",
       "    </tr>\n",
       "    <tr>\n",
       "      <th>1</th>\n",
       "      <td>2023-04-01</td>\n",
       "      <td>B</td>\n",
       "      <td>200</td>\n",
       "      <td>20.000000</td>\n",
       "    </tr>\n",
       "    <tr>\n",
       "      <th>2</th>\n",
       "      <td>2023-04-01</td>\n",
       "      <td>C</td>\n",
       "      <td>300</td>\n",
       "      <td>30.000000</td>\n",
       "    </tr>\n",
       "    <tr>\n",
       "      <th>3</th>\n",
       "      <td>2023-04-01</td>\n",
       "      <td>D</td>\n",
       "      <td>400</td>\n",
       "      <td>40.000000</td>\n",
       "    </tr>\n",
       "    <tr>\n",
       "      <th>4</th>\n",
       "      <td>2023-04-02</td>\n",
       "      <td>A</td>\n",
       "      <td>110</td>\n",
       "      <td>10.576923</td>\n",
       "    </tr>\n",
       "    <tr>\n",
       "      <th>5</th>\n",
       "      <td>2023-04-02</td>\n",
       "      <td>B</td>\n",
       "      <td>210</td>\n",
       "      <td>20.192308</td>\n",
       "    </tr>\n",
       "    <tr>\n",
       "      <th>6</th>\n",
       "      <td>2023-04-02</td>\n",
       "      <td>C</td>\n",
       "      <td>310</td>\n",
       "      <td>29.807692</td>\n",
       "    </tr>\n",
       "    <tr>\n",
       "      <th>7</th>\n",
       "      <td>2023-04-02</td>\n",
       "      <td>D</td>\n",
       "      <td>410</td>\n",
       "      <td>39.423077</td>\n",
       "    </tr>\n",
       "  </tbody>\n",
       "</table>\n",
       "</div>"
      ],
      "text/plain": [
       "    datetime category  value  percentage\n",
       "0 2023-04-01        A    100   10.000000\n",
       "1 2023-04-01        B    200   20.000000\n",
       "2 2023-04-01        C    300   30.000000\n",
       "3 2023-04-01        D    400   40.000000\n",
       "4 2023-04-02        A    110   10.576923\n",
       "5 2023-04-02        B    210   20.192308\n",
       "6 2023-04-02        C    310   29.807692\n",
       "7 2023-04-02        D    410   39.423077"
      ]
     },
     "execution_count": 3,
     "metadata": {},
     "output_type": "execute_result"
    }
   ],
   "source": [
    "dd = da.calculate_category_weights(sample_table)\n",
    "dd"
   ]
  },
  {
   "cell_type": "code",
   "execution_count": 4,
   "id": "a60cc34d",
   "metadata": {},
   "outputs": [
    {
     "data": {
      "text/html": [
       "<div>\n",
       "<style scoped>\n",
       "    .dataframe tbody tr th:only-of-type {\n",
       "        vertical-align: middle;\n",
       "    }\n",
       "\n",
       "    .dataframe tbody tr th {\n",
       "        vertical-align: top;\n",
       "    }\n",
       "\n",
       "    .dataframe thead th {\n",
       "        text-align: right;\n",
       "    }\n",
       "</style>\n",
       "<table border=\"1\" class=\"dataframe\">\n",
       "  <thead>\n",
       "    <tr style=\"text-align: right;\">\n",
       "      <th>category</th>\n",
       "      <th>datetime</th>\n",
       "      <th>A</th>\n",
       "      <th>B</th>\n",
       "      <th>C</th>\n",
       "      <th>D</th>\n",
       "    </tr>\n",
       "  </thead>\n",
       "  <tbody>\n",
       "    <tr>\n",
       "      <th>0</th>\n",
       "      <td>2023-04-01</td>\n",
       "      <td>10.000000</td>\n",
       "      <td>20.000000</td>\n",
       "      <td>30.000000</td>\n",
       "      <td>40.000000</td>\n",
       "    </tr>\n",
       "    <tr>\n",
       "      <th>1</th>\n",
       "      <td>2023-04-02</td>\n",
       "      <td>10.576923</td>\n",
       "      <td>20.192308</td>\n",
       "      <td>29.807692</td>\n",
       "      <td>39.423077</td>\n",
       "    </tr>\n",
       "  </tbody>\n",
       "</table>\n",
       "</div>"
      ],
      "text/plain": [
       "category   datetime          A          B          C          D\n",
       "0        2023-04-01  10.000000  20.000000  30.000000  40.000000\n",
       "1        2023-04-02  10.576923  20.192308  29.807692  39.423077"
      ]
     },
     "execution_count": 4,
     "metadata": {},
     "output_type": "execute_result"
    }
   ],
   "source": [
    "pivot_table = dd.pivot_table(index=dd.iloc[:, 0], columns=dd.iloc[:, 1], values='percentage').reset_index()\n",
    "pivot_table"
   ]
  },
  {
   "cell_type": "code",
   "execution_count": null,
   "id": "26641c75",
   "metadata": {},
   "outputs": [],
   "source": [
    "# Create the pivot table\n",
    "pivot_table = dd.pivot_table(index='datetime', columns='category', values='percentage').reset_index()\n",
    "pivot_table"
   ]
  },
  {
   "cell_type": "code",
   "execution_count": null,
   "id": "b32894df",
   "metadata": {},
   "outputs": [],
   "source": []
  }
 ],
 "metadata": {
  "kernelspec": {
   "display_name": "Python 3 (ipykernel)",
   "language": "python",
   "name": "python3"
  },
  "language_info": {
   "codemirror_mode": {
    "name": "ipython",
    "version": 3
   },
   "file_extension": ".py",
   "mimetype": "text/x-python",
   "name": "python",
   "nbconvert_exporter": "python",
   "pygments_lexer": "ipython3",
   "version": "3.11.5"
  }
 },
 "nbformat": 4,
 "nbformat_minor": 5
}

{
 "cells": [
  {
   "cell_type": "code",
   "execution_count": 1,
   "id": "891e3f66",
   "metadata": {},
   "outputs": [
    {
     "name": "stderr",
     "output_type": "stream",
     "text": [
      "INFO:botocore.credentials:Found credentials in shared credentials file: ~/.aws/credentials\n"
     ]
    },
    {
     "name": "stdout",
     "output_type": "stream",
     "text": [
      "I'm doing well, thanks for asking!\n",
      "I'm afraid I don't have any information about something called \"AWS Bedrock\". AWS (Amazon Web Services) is a large cloud computing platform, but I'm not familiar with a specific service or product called \"Bedrock\" from AWS. Could you provide some more context on what AWS Bedrock is or what you're trying to understand about it? AWS has many different services for computing, storage, databases, analytics and more, so without more details it's difficult for me to know which aspect of AWS you're referring to.\n",
      "I apologize, but I do not have any information about AWS Bedrock to compare it to other AWS services or cloud platforms. AWS does not appear to have a service officially called \"Bedrock\". Without knowing more specifics about what this refers to, it's not possible for me to provide a meaningful comparison. Some general things I could compare AWS services on include:\n",
      "\n",
      "- Computing - compare instance types, performance, pricing models\n",
      "- Storage - compare storage options, performance, durability, pricing \n",
      "- Databases - compare database engines, features, scalability, pricing\n",
      "- Analytics - compare data processing, machine learning, data warehousing options\n",
      "- Deployment/Management - compare deployment/orchestration tools, monitoring, billing\n",
      "- Security/Compliance - compare identity/access management, encryption, certifications\n",
      "- Pricing - compare pricing models like on-demand, reserved, spot instances\n",
      "- Geographic footprint - compare availability zones, regions globally\n",
      "\n",
      "But without understanding exactly what service or capability \"AWS Bedrock\" refers to, a comparison is difficult. Could you provide any additional context on what it is, what problem it aims to solve, or point me to documentation? Comparing unknowns isn't very useful. Let me know if you have more details to help understand what you're asking about.\n"
     ]
    }
   ],
   "source": [
    "# Initialize the AWSBedrock class\n",
    "from genai import AWSBedrock\n",
    "\n",
    "aws_bedrock = AWSBedrock()\n",
    "\n",
    "# Choose a model ID from active models (example: \"example-model-id\")\n",
    "model_id = \"anthropic.claude-instant-v1\"\n",
    "\n",
    "# Start a conversation\n",
    "response1 = aws_bedrock.generate_conversational_response(model_id, \"Hello! How are you?\")\n",
    "print(response1)\n",
    "\n",
    "# Continue the conversation\n",
    "response2 = aws_bedrock.generate_conversational_response(model_id, \"Can you tell me more about AWS Bedrock?\")\n",
    "print(response2)\n",
    "\n",
    "# The bot will remember the context of the conversation\n",
    "response3 = aws_bedrock.generate_conversational_response(model_id, \"How does it compare to other services?\")\n",
    "print(response3)\n"
   ]
  },
  {
   "cell_type": "code",
   "execution_count": null,
   "id": "5a85a4f3",
   "metadata": {},
   "outputs": [],
   "source": [
    "# example_usage.py\n",
    "from genai import ConversationalBot\n",
    "\n",
    "def main():\n",
    "    # Initialize the bot with the Claude model\n",
    "    bot = ConversationalBot(model_id=\"anthropic.claude-instant-v1\")\n",
    "\n",
    "    print(\"Start chatting with the bot! Type 'exit' to quit or 'clear' to reset the conversation.\")\n",
    "\n",
    "    while True:\n",
    "        user_input = input(\"You: \")\n",
    "        if user_input.lower() in [\"exit\", \"quit\"]:\n",
    "            break\n",
    "        if user_input.lower() == \"clear\":\n",
    "            bot.clear_history()\n",
    "            print(\"Conversation history cleared.\")\n",
    "            continue\n",
    "\n",
    "        response = bot.generate_response(user_input)\n",
    "        print(f\"Assistant: {response}\")\n",
    "\n",
    "if __name__ == \"__main__\":\n",
    "    main()\n"
   ]
  },
  {
   "cell_type": "code",
   "execution_count": null,
   "id": "7b22ffba",
   "metadata": {},
   "outputs": [],
   "source": []
  }
 ],
 "metadata": {
  "kernelspec": {
   "display_name": "Python 3 (ipykernel)",
   "language": "python",
   "name": "python3"
  },
  "language_info": {
   "codemirror_mode": {
    "name": "ipython",
    "version": 3
   },
   "file_extension": ".py",
   "mimetype": "text/x-python",
   "name": "python",
   "nbconvert_exporter": "python",
   "pygments_lexer": "ipython3",
   "version": "3.11.5"
  }
 },
 "nbformat": 4,
 "nbformat_minor": 5
}

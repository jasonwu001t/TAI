{
  "cells": [
    {
      "cell_type": "raw",
      "metadata": {
        "vscode": {
          "languageId": "raw"
        }
      },
      "source": [
        "# PE Scanner - Visualization Demo\n",
        "\n",
        "## 📊 Interactive Financial Analysis with TAI's Plotly Integration\n",
        "\n",
        "This notebook demonstrates the comprehensive plotting capabilities of the PE Scanner, powered by TAI's `plotly_plots.py` module.\n",
        "\n",
        "### 🎯 What You'll Learn:\n",
        "- Create interactive PE ratio comparisons\n",
        "- Build comprehensive valuation dashboards\n",
        "- Analyze historical PE trends\n",
        "- Visualize sector analysis with heatmaps\n",
        "- Generate PE vs Growth scatter plots\n",
        "\n",
        "### 📋 Prerequisites:\n",
        "- TAI library installed and configured\n",
        "- Valid Alpaca API credentials (for real-time prices)\n",
        "- Internet connection (for SEC data)\n"
      ]
    },
    {
      "cell_type": "code",
      "execution_count": null,
      "metadata": {},
      "outputs": [],
      "source": [
        "# Cell 1: Setup and Imports\n",
        "import sys\n",
        "import os\n",
        "\n",
        "# Add TAI library to path (adjust as needed)\n",
        "sys.path.append(os.path.join(os.getcwd(), '..', '..'))\n",
        "\n",
        "from pe_scanner import PEScanner\n",
        "from pe_scanner_usage_examples import *\n",
        "import pandas as pd\n",
        "\n",
        "print(\"🚀 PE Scanner Visualization Demo\")\n",
        "print(\"=\" * 50)\n"
      ]
    },
    {
      "cell_type": "code",
      "execution_count": null,
      "metadata": {},
      "outputs": [],
      "source": [
        "# Cell 2: Initialize Scanner with Plotting Capabilities\n",
        "scanner = PEScanner()\n",
        "print(\"✅ PE Scanner initialized with plotting capabilities!\")\n",
        "print(\"📊 Available visualization methods:\")\n",
        "print(\"   • plot_pe_comparison()\")\n",
        "print(\"   • plot_historical_pe_trend()\")\n",
        "print(\"   • plot_valuation_dashboard()\")\n",
        "print(\"   • plot_pe_vs_growth_scatter()\")\n",
        "print(\"   • plot_sector_pe_heatmap()\")\n"
      ]
    },
    {
      "cell_type": "raw",
      "metadata": {
        "vscode": {
          "languageId": "raw"
        }
      },
      "source": [
        "## 📊 1. PE Ratio Comparison Chart\n",
        "\n",
        "Compare PE ratios across multiple stocks with an interactive bar chart.\n"
      ]
    },
    {
      "cell_type": "code",
      "execution_count": null,
      "metadata": {},
      "outputs": [],
      "source": [
        "# Cell 3: PE Comparison Chart\n",
        "tech_stocks = ['AAPL', 'MSFT', 'GOOGL', 'AMZN']\n",
        "\n",
        "comparison_fig = scanner.plot_pe_comparison(\n",
        "    tickers=tech_stocks,\n",
        "    title=\"Tech Giants - PE Ratio Comparison\"\n",
        ")\n",
        "\n",
        "# Display the interactive chart\n",
        "comparison_fig.show()\n",
        "\n",
        "print(\"💡 Tip: Hover over bars to see exact values!\")\n"
      ]
    },
    {
      "cell_type": "raw",
      "metadata": {
        "vscode": {
          "languageId": "raw"
        }
      },
      "source": [
        "## 📋 2. Comprehensive Valuation Dashboard\n",
        "\n",
        "Get a complete overview of a stock's valuation metrics in one comprehensive view.\n"
      ]
    },
    {
      "cell_type": "code",
      "execution_count": null,
      "metadata": {},
      "outputs": [],
      "source": [
        "# Cell 4: Comprehensive Valuation Dashboard\n",
        "dashboard_fig = scanner.plot_valuation_dashboard('MSFT')\n",
        "\n",
        "if dashboard_fig:\n",
        "    dashboard_fig.show()\n",
        "    print(\"📊 Dashboard Features:\")\n",
        "    print(\"   🔢 Top Left: Current PE Ratios\")\n",
        "    print(\"   📈 Top Right: Historical PE Statistics\")\n",
        "    print(\"   🎯 Bottom Left: Valuation Score Gauge\")\n",
        "    print(\"   📋 Bottom Right: Key Metrics Table\")\n",
        "else:\n",
        "    print(\"❌ Could not generate dashboard\")\n"
      ]
    },
    {
      "cell_type": "raw",
      "metadata": {
        "vscode": {
          "languageId": "raw"
        }
      },
      "source": [
        "## 🚀 3. Quick Functions for Rapid Analysis\n",
        "\n",
        "Use these one-liner functions for quick analysis in any cell.\n"
      ]
    },
    {
      "cell_type": "code",
      "execution_count": null,
      "metadata": {},
      "outputs": [],
      "source": [
        "# Cell 5: Quick Analysis Functions Demo\n",
        "print(\"⚡ Quick Analysis Functions:\")\n",
        "print(\"=\" * 40)\n",
        "\n",
        "# Quick dashboard for any stock - one line!\n",
        "dashboard = quick_plot_dashboard('AAPL')\n",
        "dashboard.show()\n",
        "\n",
        "# Quick comparison - one line!\n",
        "comparison = quick_plot_comparison(['AAPL', 'MSFT', 'GOOGL'], \"Quick Compare\")\n",
        "comparison.show()\n",
        "\n",
        "# Quick historical trend - one line!\n",
        "trend = quick_plot_trend('TSLA')\n",
        "if trend:\n",
        "    trend.show()\n",
        "\n",
        "print(\"💡 These functions are perfect for rapid prototyping!\")\n"
      ]
    },
    {
      "cell_type": "raw",
      "metadata": {
        "vscode": {
          "languageId": "raw"
        }
      },
      "source": [
        "## 📚 Summary and Quick Reference\n",
        "\n",
        "### ✅ Available Plotting Methods:\n",
        "- **`plot_pe_comparison(tickers)`**: Compare PE ratios across multiple stocks\n",
        "- **`plot_valuation_dashboard(ticker)`**: Comprehensive 4-panel valuation view  \n",
        "- **`plot_historical_pe_trend(ticker)`**: Historical PE analysis with trend lines\n",
        "- **`plot_pe_vs_growth_scatter(results)`**: PE vs Growth rate analysis\n",
        "- **`plot_sector_pe_heatmap(sector_data)`**: Sector comparison heatmap\n",
        "\n",
        "### ⚡ Quick Functions:\n",
        "- **`quick_plot_dashboard(ticker)`**: One-line dashboard creation\n",
        "- **`quick_plot_comparison(tickers)`**: One-line PE comparison\n",
        "- **`quick_plot_trend(ticker)`**: One-line historical trend\n",
        "\n",
        "### 💾 Saving Plots:\n",
        "```python\n",
        "fig.write_html('filename.html')  # Save as interactive HTML\n",
        "fig.write_image('filename.png')  # Save as static image\n",
        "```\n",
        "\n",
        "### 🚀 Next Steps:\n",
        "1. Customize screening criteria for your investment strategy\n",
        "2. Add more stocks and sectors to your analysis  \n",
        "3. Integrate with other TAI modules for complete analysis\n",
        "4. Set up regular monitoring for investment opportunities\n"
      ]
    }
  ],
  "metadata": {
    "language_info": {
      "name": "python"
    }
  },
  "nbformat": 4,
  "nbformat_minor": 2
}

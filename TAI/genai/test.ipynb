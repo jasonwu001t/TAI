{
 "cells": [
  {
   "cell_type": "code",
   "execution_count": 2,
   "id": "116f7708",
   "metadata": {},
   "outputs": [],
   "source": [
    "from genai_v2 import AWSBedrock\n",
    "model_id = 'anthropic.claude-instant-v1'\n",
    "aws_bedrock = AWSBedrock()\n",
    "prompt = 'create me a pandas dataframe'\n",
    "aa = aws_bedrock.generate_text(prompt)"
   ]
  },
  {
   "cell_type": "code",
   "execution_count": 3,
   "id": "489635df",
   "metadata": {},
   "outputs": [
    {
     "data": {
      "text/plain": [
       "\"Here is an example of creating a pandas DataFrame:\\n\\n```python\\nimport pandas as pd\\n\\ndata = {'Name': ['John', 'Mary', 'Steve'], \\n        'Age': [20, 22, 25],\\n        'City': ['New York', 'Boston', 'Chicago']}\\n\\ndf = pd.DataFrame(data)\\n\\nprint(df)\\n```\\n\\nThis will create a DataFrame with 3 rows and 3 columns - Name, Age and City. The data is provided as a dictionary with the column names as keys and lists of values. Pandas DataFrame is one of the most commonly used data structures in data analysis with Python. It allows easy manipulation of tabular data in rows and columns. Let me know if you need any help working with pandas DataFrames!\""
      ]
     },
     "execution_count": 3,
     "metadata": {},
     "output_type": "execute_result"
    }
   ],
   "source": [
    "aa['content']"
   ]
  },
  {
   "cell_type": "code",
   "execution_count": null,
   "id": "fca82164",
   "metadata": {},
   "outputs": [],
   "source": [
    "# Initialize the AWSBedrock class\n",
    "\n",
    "\n",
    "# Choose an active model from the available models\n",
    "available_models = aws_bedrock.available_models\n",
    "# print(\"Available Models:\", available_models)\n",
    "\n",
    "# Assuming you have an active model ID (replace 'your_model_id' with the actual model ID)\n",
    "model_id = 'anthropic.claude-instant-v1'\n"
   ]
  },
  {
   "cell_type": "code",
   "execution_count": null,
   "id": "6f5eb0c2",
   "metadata": {},
   "outputs": [],
   "source": [
    "aws_bedrock.get_active_models()"
   ]
  },
  {
   "cell_type": "code",
   "execution_count": null,
   "id": "a439b8bb",
   "metadata": {},
   "outputs": [],
   "source": []
  },
  {
   "cell_type": "code",
   "execution_count": null,
   "id": "74c91406",
   "metadata": {},
   "outputs": [],
   "source": []
  },
  {
   "cell_type": "code",
   "execution_count": null,
   "id": "6cbd6ca9",
   "metadata": {},
   "outputs": [],
   "source": [
    "\n",
    "# Start a conversation\n",
    "user_input = \"Hello! How can you assist me today?\"\n",
    "response_content = aws_bedrock.generate_conversational_response(model_id, user_input)\n",
    "\n",
    "print(\"Assistant:\", response_content)\n",
    "\n",
    "# Continue the conversation\n",
    "while True:\n",
    "    user_input = input(\"You: \")\n",
    "    if user_input.lower() in ['exit', 'quit']:\n",
    "        break\n",
    "    \n",
    "    response_content = aws_bedrock.generate_conversational_response(model_id, user_input)\n",
    "    print(\"Assistant:\", response_content)\n"
   ]
  }
 ],
 "metadata": {
  "kernelspec": {
   "display_name": "Python 3 (ipykernel)",
   "language": "python",
   "name": "python3"
  },
  "language_info": {
   "codemirror_mode": {
    "name": "ipython",
    "version": 3
   },
   "file_extension": ".py",
   "mimetype": "text/x-python",
   "name": "python",
   "nbconvert_exporter": "python",
   "pygments_lexer": "ipython3",
   "version": "3.11.5"
  }
 },
 "nbformat": 4,
 "nbformat_minor": 5
}

{
 "cells": [
  {
   "cell_type": "code",
   "execution_count": 1,
   "id": "9572e7cf",
   "metadata": {},
   "outputs": [],
   "source": [
    "import ollama"
   ]
  },
  {
   "cell_type": "code",
   "execution_count": 4,
   "id": "2070b63d",
   "metadata": {},
   "outputs": [],
   "source": [
    "response = ollama.generate(model='llama3.1',prompt='tell me a joke')"
   ]
  },
  {
   "cell_type": "code",
   "execution_count": 5,
   "id": "f76d5ac5",
   "metadata": {},
   "outputs": [
    {
     "data": {
      "text/plain": [
       "\"Here's one:\\n\\nWhat do you call a fake noodle?\\n\\nAn impasta.\""
      ]
     },
     "execution_count": 5,
     "metadata": {},
     "output_type": "execute_result"
    }
   ],
   "source": [
    "response['response']"
   ]
  },
  {
   "cell_type": "code",
   "execution_count": null,
   "id": "09b94b93",
   "metadata": {},
   "outputs": [],
   "source": []
  },
  {
   "cell_type": "code",
   "execution_count": null,
   "id": "686a9ba6",
   "metadata": {},
   "outputs": [],
   "source": []
  },
  {
   "cell_type": "markdown",
   "id": "4b8d8fc0",
   "metadata": {},
   "source": [
    "### explore Embedding"
   ]
  },
  {
   "cell_type": "code",
   "execution_count": null,
   "id": "05b2b67c",
   "metadata": {
    "scrolled": true
   },
   "outputs": [],
   "source": [
    "from llama_index.embeddings.bedrock import BedrockEmbedding\n",
    "# %pip install llama-index-embeddings-bedrock\n",
    "import json\n",
    "\n",
    "supported_models = BedrockEmbedding.list_supported_models()\n",
    "print(json.dumps(supported_models, indent=2))"
   ]
  },
  {
   "cell_type": "code",
   "execution_count": null,
   "id": "dfcaa0f1",
   "metadata": {},
   "outputs": [],
   "source": [
    "from llama_index.embeddings.bedrock import BedrockEmbedding\n",
    "\n",
    "model = BedrockEmbedding(model=\"amazon.titan-embed-g1-text-02\")\n",
    "embeddings = model.get_text_embedding(\"hello world\")\n",
    "print(embeddings)"
   ]
  },
  {
   "cell_type": "code",
   "execution_count": null,
   "id": "cbc47dc9",
   "metadata": {},
   "outputs": [],
   "source": [
    "model = BedrockEmbedding(model=\"cohere.embed-multilingual-v3\")\n",
    "coherePayload = [\n",
    "    \"This is a test document\",\n",
    "    \"తెలుగు అనేది ద్రావిడ భాషల కుటుంబానికి చెందిన భాష.\",\n",
    "    \"Esto es una prueba de documento multilingüe.\",\n",
    "    \"攻殻機動隊\",\n",
    "    \"Combien de temps ça va prendre ?\",\n",
    "    \"Документ проверен\",\n",
    "]\n",
    "embeddings = model.get_text_embedding_batch(coherePayload)\n",
    "print(embeddings)"
   ]
  },
  {
   "cell_type": "code",
   "execution_count": null,
   "id": "53b85cb6",
   "metadata": {},
   "outputs": [],
   "source": [
    "embedding = model.get_text_embedding(\"hello world\")"
   ]
  },
  {
   "cell_type": "code",
   "execution_count": null,
   "id": "7b424bcf",
   "metadata": {},
   "outputs": [],
   "source": [
    "embedding"
   ]
  },
  {
   "cell_type": "markdown",
   "id": "a357fce0",
   "metadata": {},
   "source": [
    "### test genai.py"
   ]
  },
  {
   "cell_type": "code",
   "execution_count": null,
   "id": "116f7708",
   "metadata": {},
   "outputs": [],
   "source": [
    "from genai_v2 import AWSBedrock\n",
    "model_id = 'anthropic.claude-instant-v1'\n",
    "aws_bedrock = AWSBedrock()\n",
    "prompt = 'create me a pandas dataframe'\n",
    "aa = aws_bedrock.generate_text(prompt)\n",
    "aa['content']\n",
    "\n",
    "available_models = aws_bedrock.available_models\n",
    "model_id = 'anthropic.claude-instant-v1'\n",
    "aws_bedrock.get_active_models()"
   ]
  },
  {
   "cell_type": "code",
   "execution_count": null,
   "id": "6cbd6ca9",
   "metadata": {},
   "outputs": [],
   "source": [
    "\n",
    "user_input = \"Hello! How can you assist me today?\"\n",
    "response_content = aws_bedrock.generate_conversational_response(model_id, user_input)\n",
    "\n",
    "print(\"Assistant:\", response_content)\n",
    "\n",
    "# Continue the conversation\n",
    "while True:\n",
    "    user_input = input(\"You: \")\n",
    "    if user_input.lower() in ['exit', 'quit']:\n",
    "        break\n",
    "    \n",
    "    response_content = aws_bedrock.generate_conversational_response(model_id, user_input)\n",
    "    print(\"Assistant:\", response_content)\n"
   ]
  }
 ],
 "metadata": {
  "kernelspec": {
   "display_name": "Python 3 (ipykernel)",
   "language": "python",
   "name": "python3"
  },
  "language_info": {
   "codemirror_mode": {
    "name": "ipython",
    "version": 3
   },
   "file_extension": ".py",
   "mimetype": "text/x-python",
   "name": "python",
   "nbconvert_exporter": "python",
   "pygments_lexer": "ipython3",
   "version": "3.11.5"
  }
 },
 "nbformat": 4,
 "nbformat_minor": 5
}

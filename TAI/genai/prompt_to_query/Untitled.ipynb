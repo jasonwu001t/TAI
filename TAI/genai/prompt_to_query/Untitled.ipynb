{
 "cells": [
  {
   "cell_type": "code",
   "execution_count": null,
   "id": "33abe963",
   "metadata": {},
   "outputs": [],
   "source": [
    "import boto3\n",
    "import json\n",
    "bedrock = boto3.client(\n",
    "            service_name='bedrock-runtime',\n",
    "            region_name='us-west-2')\n",
    "prompt = 'canberra is capital of australia'\n",
    "body = json.dumps({\n",
    "    \"inputText\": prompt,\n",
    "})\n",
    "\n",
    "model_id = 'amazon.titan-embed-text-v1'\n",
    "accept = 'application/json'\n",
    "content_type = 'application/json'\n",
    "\n",
    "response = bedrock.invoke_model(\n",
    "                    body=body,\n",
    "                    modelId = model_id,\n",
    "                    accept=accept,\n",
    "                    contentType=content_type)\n",
    "\n",
    "# print (response)\n",
    "response_body = json.loads(response['body'].read())\n",
    "embedding = response_body.get('embedding')\n",
    "print (embedding)"
   ]
  },
  {
   "cell_type": "code",
   "execution_count": null,
   "id": "9054afeb",
   "metadata": {},
   "outputs": [],
   "source": []
  },
  {
   "cell_type": "code",
   "execution_count": null,
   "id": "e23235c0",
   "metadata": {},
   "outputs": [],
   "source": []
  },
  {
   "cell_type": "code",
   "execution_count": null,
   "id": "adabc8c8",
   "metadata": {},
   "outputs": [],
   "source": [
    "from TAI.genai import AWSBedrock\n",
    "ab = AWSBedrock()\n",
    "for i in ab.get_active_models():\n",
    "    print (i)\n",
    "#     print (i['modelId'])"
   ]
  },
  {
   "cell_type": "code",
   "execution_count": null,
   "id": "86ba83c7",
   "metadata": {
    "scrolled": false
   },
   "outputs": [],
   "source": []
  },
  {
   "cell_type": "code",
   "execution_count": 1,
   "id": "544d1640",
   "metadata": {},
   "outputs": [
    {
     "name": "stdout",
     "output_type": "stream",
     "text": [
      "Normalized Embedding: [-2.2300350e-05  1.0602224e-02  4.5077987e-02 ...  2.1945862e-02\n",
      " -1.5273133e-02 -4.1222632e-02]\n",
      "Schema Keyword: schema, Embedding: [-2.2300350e-05  1.0602224e-02  4.5077987e-02 ...  2.1945862e-02\n",
      " -1.5273133e-02 -4.1222632e-02]\n",
      "Normalized Embedding: [-0.01225706 -0.01682626  0.02059766 ... -0.01254717  0.00783291\n",
      "  0.0102263 ]\n",
      "Schema Keyword: tables, Embedding: [-0.01225706 -0.01682626  0.02059766 ... -0.01254717  0.00783291\n",
      "  0.0102263 ]\n",
      "Normalized Embedding: [0.00731454 0.01220393 0.02659832 ... 0.01564607 0.02315618 0.00081653]\n",
      "Schema Keyword: description, Embedding: [0.00731454 0.01220393 0.02659832 ... 0.01564607 0.02315618 0.00081653]\n",
      "Normalized Embedding: [-0.00798105 -0.00180943  0.00211263 ... -0.02519508  0.00876351\n",
      " -0.04319156]\n",
      "Schema Keyword: records, Embedding: [-0.00798105 -0.00180943  0.00211263 ... -0.02519508  0.00876351\n",
      " -0.04319156]\n",
      "Normalized Embedding: [-0.05626694 -0.00838441  0.0457765  ... -0.01764303 -0.00846388\n",
      "  0.00596048]\n",
      "Schema Keyword: loaded tables, Embedding: [-0.05626694 -0.00838441  0.0457765  ... -0.01764303 -0.00846388\n",
      "  0.00596048]\n",
      "Normalized Embedding: [-0.00423875 -0.00939517  0.03635713 ... -0.00176979 -0.01503228\n",
      "  0.00651107]\n",
      "Schema Keyword: table description, Embedding: [-0.00423875 -0.00939517  0.03635713 ... -0.00176979 -0.01503228\n",
      "  0.00651107]\n",
      "Normalized Embedding: [-0.03192718  0.00948332  0.0185715  ... -0.00010681 -0.00900915\n",
      " -0.02797579]\n",
      "Table Name: users, Embedding: [-0.03192718  0.00948332  0.0185715  ... -0.00010681 -0.00900915\n",
      " -0.02797579]\n",
      "Normalized Embedding: [-0.01743366  0.03471167 -0.00457245 ... -0.00243215 -0.01089604\n",
      " -0.01027341]\n",
      "Table Name: orders, Embedding: [-0.01743366  0.03471167 -0.00457245 ... -0.00243215 -0.01089604\n",
      " -0.01027341]\n",
      "Normalized Embedding: [ 0.00491185  0.01812225  0.00744627 ...  0.0139954  -0.01830167\n",
      " -0.05490502]\n",
      "Table Name: products, Embedding: [ 0.00491185  0.01812225  0.00744627 ...  0.0139954  -0.01830167\n",
      " -0.05490502]\n"
     ]
    }
   ],
   "source": [
    "from text_to_sql_agent import TextToSQLAgent\n",
    "\n",
    "agent = TextToSQLAgent()"
   ]
  },
  {
   "cell_type": "code",
   "execution_count": 2,
   "id": "ff6d2126",
   "metadata": {},
   "outputs": [
    {
     "name": "stdout",
     "output_type": "stream",
     "text": [
      "Normalized Embedding: [ 0.0137908  -0.00445549  0.00487982 ...  0.00055362 -0.00684236\n",
      " -0.0269451 ]\n",
      "Schema similarity for prompt 'what are the customer emails': 0.15462151169776917\n",
      "Table 'users' has 3 records. Description: User details including ID, name, and email..\n",
      "Table 'orders' has 4 records. Description: Order details including ID, user ID, product ID, quantity, and order date..\n",
      "Table 'products' has 3 records. Description: Product details including ID, name, and price..\n"
     ]
    }
   ],
   "source": [
    "user_prompt = \"what are the customer emails\"\n",
    "result = agent.process_prompt(user_prompt)\n",
    "print(result)\n"
   ]
  },
  {
   "cell_type": "code",
   "execution_count": 3,
   "id": "28f40913",
   "metadata": {},
   "outputs": [
    {
     "name": "stdout",
     "output_type": "stream",
     "text": [
      "Normalized Embedding: [-0.02161206  0.00559949  0.02446093 ...  0.01679847  0.01159193\n",
      " -0.01110074]\n",
      "Schema similarity for prompt 'match customer names to order ids': 0.1976834088563919\n",
      "Table 'users' has 3 records. Description: User details including ID, name, and email..\n",
      "Table 'orders' has 4 records. Description: Order details including ID, user ID, product ID, quantity, and order date..\n",
      "Table 'products' has 3 records. Description: Product details including ID, name, and price..\n"
     ]
    }
   ],
   "source": [
    "user_prompt = \"match customer names to order ids\"\n",
    "result = agent.process_prompt(user_prompt)\n",
    "print(result)\n"
   ]
  },
  {
   "cell_type": "code",
   "execution_count": 4,
   "id": "36a62b2e",
   "metadata": {},
   "outputs": [
    {
     "name": "stdout",
     "output_type": "stream",
     "text": [
      "Normalized Embedding: [-0.0439925  -0.02188228  0.0095735  ...  0.01037129 -0.03920575\n",
      " -0.00504318]\n",
      "Schema similarity for prompt 'some all the ids then minus the sells price': 0.23183149099349976\n",
      "Table 'users' has 3 records. Description: User details including ID, name, and email..\n",
      "Table 'orders' has 4 records. Description: Order details including ID, user ID, product ID, quantity, and order date..\n",
      "Table 'products' has 3 records. Description: Product details including ID, name, and price..\n"
     ]
    }
   ],
   "source": [
    "user_prompt = \"some all the ids then minus the sells price\"\n",
    "result = agent.process_prompt(user_prompt)\n",
    "print(result)\n"
   ]
  },
  {
   "cell_type": "code",
   "execution_count": 5,
   "id": "45fba50d",
   "metadata": {},
   "outputs": [
    {
     "name": "stdout",
     "output_type": "stream",
     "text": [
      "Normalized Embedding: [-0.01125362 -0.04732951 -0.00463006 ...  0.00046622  0.02199279\n",
      "  0.02302169]\n",
      "Schema similarity for prompt 'what was my first question': 0.06870268285274506\n",
      "Normalized Embedding: [-0.01125362 -0.04732951 -0.00463006 ...  0.00046622  0.02199279\n",
      "  0.02302169]\n",
      "Schema similarity for prompt 'what was my first question': 0.06870268285274506\n",
      "Normalized Embedding: [-0.01125362 -0.04732951 -0.00463006 ...  0.00046622  0.02199279\n",
      "  0.02302169]\n",
      "Table similarity for prompt 'what was my first question': 0.07734361290931702\n",
      "I apologize, but I do not have a record of your first question. As an AI assistant created by Anthropic to be helpful, harmless, and honest, I do not have a persistent memory of our conversation.\n"
     ]
    }
   ],
   "source": [
    "user_prompt = \"what was my first question\"\n",
    "result = agent.process_prompt(user_prompt)\n",
    "print(result)\n"
   ]
  },
  {
   "cell_type": "code",
   "execution_count": null,
   "id": "25b2ae6d",
   "metadata": {},
   "outputs": [],
   "source": [
    "user_prompt = \"generate me a pandas dataframe sample table\"\n",
    "result = agent.process_prompt(user_prompt)\n",
    "print(result)\n"
   ]
  },
  {
   "cell_type": "code",
   "execution_count": null,
   "id": "b977fc26",
   "metadata": {},
   "outputs": [],
   "source": [
    "user_prompt = \"select the second column\"\n",
    "result = agent.process_prompt(user_prompt)\n",
    "print(result)\n"
   ]
  },
  {
   "cell_type": "code",
   "execution_count": null,
   "id": "628138c1",
   "metadata": {},
   "outputs": [],
   "source": [
    "user_prompt = \"what is the value of the 3rd column, second value\"\n",
    "result = agent.process_prompt(user_prompt)\n",
    "print(result)\n"
   ]
  },
  {
   "cell_type": "code",
   "execution_count": null,
   "id": "b60225d8",
   "metadata": {},
   "outputs": [],
   "source": [
    "user_prompt = \"rename the columsn to city related\"\n",
    "result = agent.process_prompt(user_prompt)\n",
    "print(result)\n"
   ]
  },
  {
   "cell_type": "code",
   "execution_count": null,
   "id": "f5d50035",
   "metadata": {},
   "outputs": [],
   "source": [
    "user_prompt = \"tell me a story about dragon\"\n",
    "result = agent.process_prompt(user_prompt)\n",
    "print(result)\n"
   ]
  },
  {
   "cell_type": "code",
   "execution_count": null,
   "id": "48a15759",
   "metadata": {},
   "outputs": [],
   "source": [
    "user_prompt = \"tell me more about it\"\n",
    "result = agent.process_prompt(user_prompt)\n",
    "print(result)\n"
   ]
  },
  {
   "cell_type": "code",
   "execution_count": null,
   "id": "7240b011",
   "metadata": {},
   "outputs": [],
   "source": []
  }
 ],
 "metadata": {
  "kernelspec": {
   "display_name": "Python 3 (ipykernel)",
   "language": "python",
   "name": "python3"
  },
  "language_info": {
   "codemirror_mode": {
    "name": "ipython",
    "version": 3
   },
   "file_extension": ".py",
   "mimetype": "text/x-python",
   "name": "python",
   "nbconvert_exporter": "python",
   "pygments_lexer": "ipython3",
   "version": "3.11.5"
  }
 },
 "nbformat": 4,
 "nbformat_minor": 5
}

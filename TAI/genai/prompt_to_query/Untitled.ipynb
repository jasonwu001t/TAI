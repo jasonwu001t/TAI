{
 "cells": [
  {
   "cell_type": "code",
   "execution_count": null,
   "id": "c28913b0",
   "metadata": {},
   "outputs": [],
   "source": [
    "import boto3\n",
    "import json\n",
    "bedrock = boto3.client(\n",
    "            service_name='bedrock-runtime',\n",
    "            region_name='us-west-2')\n",
    "prompt = 'canberra is capital of australia'\n",
    "body = json.dumps({\n",
    "    \"inputText\": prompt,\n",
    "})\n",
    "\n",
    "model_id = 'amazon.titan-embed-text-v1'\n",
    "accept = 'application/json'\n",
    "content_type = 'application/json'\n",
    "\n",
    "response = bedrock.invoke_model(\n",
    "                    body=body,\n",
    "                    modelId = model_id,\n",
    "                    accept=accept,\n",
    "                    contentType=content_type)\n",
    "\n",
    "# print (response)\n",
    "response_body = json.loads(response['body'].read())\n",
    "embedding = response_body.get('embedding')\n",
    "print (embedding)"
   ]
  },
  {
   "cell_type": "code",
   "execution_count": null,
   "id": "65ccecd5",
   "metadata": {},
   "outputs": [],
   "source": []
  },
  {
   "cell_type": "code",
   "execution_count": null,
   "id": "3b542a62",
   "metadata": {},
   "outputs": [],
   "source": []
  },
  {
   "cell_type": "code",
   "execution_count": null,
   "id": "2ba68b2f",
   "metadata": {},
   "outputs": [],
   "source": [
    "from TAI.genai import AWSBedrock\n",
    "ab = AWSBedrock()\n",
    "for i in ab.get_active_models():\n",
    "    print (i)\n",
    "#     print (i['modelId'])"
   ]
  },
  {
   "cell_type": "code",
   "execution_count": null,
   "id": "4620ee25",
   "metadata": {
    "scrolled": false
   },
   "outputs": [],
   "source": []
  },
  {
   "cell_type": "code",
   "execution_count": 1,
   "id": "50aecdd0",
   "metadata": {},
   "outputs": [],
   "source": [
    "from text_to_sql_agent import TextToSQLAgent\n",
    "\n",
    "agent = TextToSQLAgent()"
   ]
  },
  {
   "cell_type": "code",
   "execution_count": 2,
   "id": "d187e6bc",
   "metadata": {},
   "outputs": [
    {
     "name": "stdout",
     "output_type": "stream",
     "text": [
      "Table 'users' has 3 records. Description: User details including ID, name, and email..\n",
      "Table 'orders' has 4 records. Description: Order details including ID, user ID, product ID, quantity, and order date..\n",
      "Table 'products' has 3 records. Description: Product details including ID, name, and price..\n"
     ]
    }
   ],
   "source": [
    "user_prompt = \"what are the customer emails\"\n",
    "result = agent.process_prompt(user_prompt)\n",
    "print(result)\n"
   ]
  },
  {
   "cell_type": "code",
   "execution_count": 3,
   "id": "c016d43d",
   "metadata": {},
   "outputs": [
    {
     "name": "stdout",
     "output_type": "stream",
     "text": [
      "Table 'users' has 3 records. Description: User details including ID, name, and email..\n",
      "Table 'orders' has 4 records. Description: Order details including ID, user ID, product ID, quantity, and order date..\n",
      "Table 'products' has 3 records. Description: Product details including ID, name, and price..\n"
     ]
    }
   ],
   "source": [
    "user_prompt = \"match customer names to order ids\"\n",
    "result = agent.process_prompt(user_prompt)\n",
    "print(result)\n"
   ]
  },
  {
   "cell_type": "code",
   "execution_count": 4,
   "id": "f6061bed",
   "metadata": {},
   "outputs": [
    {
     "name": "stdout",
     "output_type": "stream",
     "text": [
      "Table 'users' has 3 records. Description: User details including ID, name, and email..\n",
      "Table 'orders' has 4 records. Description: Order details including ID, user ID, product ID, quantity, and order date..\n",
      "Table 'products' has 3 records. Description: Product details including ID, name, and price..\n"
     ]
    }
   ],
   "source": [
    "user_prompt = \"some all the ids then minus the sells price\"\n",
    "result = agent.process_prompt(user_prompt)\n",
    "print(result)\n"
   ]
  },
  {
   "cell_type": "code",
   "execution_count": null,
   "id": "8ac57c65",
   "metadata": {},
   "outputs": [],
   "source": [
    "user_prompt = \"what was my first question\"\n",
    "result = agent.process_prompt(user_prompt)\n",
    "print(result)\n"
   ]
  },
  {
   "cell_type": "code",
   "execution_count": null,
   "id": "4cc5be42",
   "metadata": {},
   "outputs": [],
   "source": [
    "user_prompt = \"generate me a pandas dataframe sample table\"\n",
    "result = agent.process_prompt(user_prompt)\n",
    "print(result)\n"
   ]
  },
  {
   "cell_type": "code",
   "execution_count": null,
   "id": "99c6c009",
   "metadata": {},
   "outputs": [],
   "source": [
    "user_prompt = \"select the second column\"\n",
    "result = agent.process_prompt(user_prompt)\n",
    "print(result)\n"
   ]
  },
  {
   "cell_type": "code",
   "execution_count": null,
   "id": "11e7d998",
   "metadata": {},
   "outputs": [],
   "source": [
    "user_prompt = \"what is the value of the 3rd column, second value\"\n",
    "result = agent.process_prompt(user_prompt)\n",
    "print(result)\n"
   ]
  },
  {
   "cell_type": "code",
   "execution_count": null,
   "id": "83a67e25",
   "metadata": {},
   "outputs": [],
   "source": [
    "user_prompt = \"rename the columsn to city related\"\n",
    "result = agent.process_prompt(user_prompt)\n",
    "print(result)\n"
   ]
  },
  {
   "cell_type": "code",
   "execution_count": null,
   "id": "18341c17",
   "metadata": {},
   "outputs": [],
   "source": [
    "user_prompt = \"tell me a story about dragon\"\n",
    "result = agent.process_prompt(user_prompt)\n",
    "print(result)\n"
   ]
  },
  {
   "cell_type": "code",
   "execution_count": null,
   "id": "4d0f8619",
   "metadata": {},
   "outputs": [],
   "source": [
    "user_prompt = \"tell me more about it\"\n",
    "result = agent.process_prompt(user_prompt)\n",
    "print(result)\n"
   ]
  },
  {
   "cell_type": "code",
   "execution_count": null,
   "id": "45bf6d9d",
   "metadata": {},
   "outputs": [],
   "source": []
  }
 ],
 "metadata": {
  "kernelspec": {
   "display_name": "Python 3 (ipykernel)",
   "language": "python",
   "name": "python3"
  },
  "language_info": {
   "codemirror_mode": {
    "name": "ipython",
    "version": 3
   },
   "file_extension": ".py",
   "mimetype": "text/x-python",
   "name": "python",
   "nbconvert_exporter": "python",
   "pygments_lexer": "ipython3",
   "version": "3.11.5"
  }
 },
 "nbformat": 4,
 "nbformat_minor": 5
}

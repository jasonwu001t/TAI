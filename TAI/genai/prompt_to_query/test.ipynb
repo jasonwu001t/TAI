{
 "cells": [
  {
   "cell_type": "markdown",
   "id": "b7f699fc",
   "metadata": {},
   "source": [
    "### Embedding"
   ]
  },
  {
   "cell_type": "code",
   "execution_count": null,
   "id": "3711fec6",
   "metadata": {},
   "outputs": [],
   "source": [
    "import boto3\n",
    "import json\n",
    "bedrock = boto3.client(\n",
    "            service_name='bedrock-runtime',\n",
    "            region_name='us-west-2')\n",
    "prompt = 'canberra is capital of australia'\n",
    "body = json.dumps({\n",
    "    \"inputText\": prompt,\n",
    "})\n",
    "\n",
    "model_id = 'amazon.titan-embed-text-v1'\n",
    "accept = 'application/json'\n",
    "content_type = 'application/json'\n",
    "\n",
    "response = bedrock.invoke_model(\n",
    "                    body=body,\n",
    "                    modelId = model_id,\n",
    "                    accept=accept,\n",
    "                    contentType=content_type)\n",
    "\n",
    "# print (response)\n",
    "response_body = json.loads(response['body'].read())\n",
    "embedding = response_body.get('embedding')\n",
    "print (embedding)"
   ]
  },
  {
   "cell_type": "code",
   "execution_count": null,
   "id": "4f64434e",
   "metadata": {},
   "outputs": [],
   "source": []
  },
  {
   "cell_type": "code",
   "execution_count": null,
   "id": "42971fb2",
   "metadata": {},
   "outputs": [],
   "source": [
    "from text_to_sql_agent import TextToSQLAgent\n",
    "\n",
    "agent = TextToSQLAgent()"
   ]
  },
  {
   "cell_type": "code",
   "execution_count": null,
   "id": "1768949f",
   "metadata": {},
   "outputs": [],
   "source": [
    "user_prompt = \"what are the customer emails\"\n",
    "result = agent.process_prompt(user_prompt)\n",
    "print(result)\n"
   ]
  },
  {
   "cell_type": "code",
   "execution_count": null,
   "id": "22ca391a",
   "metadata": {},
   "outputs": [],
   "source": [
    "user_prompt = \"provide me the sql only\"\n",
    "result = agent.process_prompt(user_prompt)\n",
    "print(result)\n"
   ]
  },
  {
   "cell_type": "code",
   "execution_count": null,
   "id": "ce5786fe",
   "metadata": {},
   "outputs": [],
   "source": [
    "user_prompt = \"some all the ids then minus the sells price\"\n",
    "result = agent.process_prompt(user_prompt)\n",
    "print(result)\n"
   ]
  },
  {
   "cell_type": "code",
   "execution_count": null,
   "id": "b74da5c8",
   "metadata": {},
   "outputs": [],
   "source": [
    "user_prompt = \"what was my first question\"\n",
    "result = agent.process_prompt(user_prompt)\n",
    "print(result)\n"
   ]
  },
  {
   "cell_type": "code",
   "execution_count": null,
   "id": "24fd7c58",
   "metadata": {},
   "outputs": [],
   "source": [
    "user_prompt = \"generate me a pandas dataframe sample table\"\n",
    "result = agent.process_prompt(user_prompt)\n",
    "print(result)\n"
   ]
  },
  {
   "cell_type": "code",
   "execution_count": null,
   "id": "e55232f7",
   "metadata": {},
   "outputs": [],
   "source": [
    "user_prompt = \"select the second column\"\n",
    "result = agent.process_prompt(user_prompt)\n",
    "print(result)\n"
   ]
  },
  {
   "cell_type": "code",
   "execution_count": null,
   "id": "fd2ecfe0",
   "metadata": {},
   "outputs": [],
   "source": [
    "user_prompt = \"what is the value of the 3rd column, second value\"\n",
    "result = agent.process_prompt(user_prompt)\n",
    "print(result)\n"
   ]
  },
  {
   "cell_type": "code",
   "execution_count": null,
   "id": "20cce51c",
   "metadata": {},
   "outputs": [],
   "source": [
    "user_prompt = \"rename the columsn to city related\"\n",
    "result = agent.process_prompt(user_prompt)\n",
    "print(result)\n"
   ]
  },
  {
   "cell_type": "code",
   "execution_count": null,
   "id": "6fc7164c",
   "metadata": {},
   "outputs": [],
   "source": [
    "user_prompt = \"tell me a story about dragon\"\n",
    "result = agent.process_prompt(user_prompt)\n",
    "print(result)\n"
   ]
  },
  {
   "cell_type": "code",
   "execution_count": null,
   "id": "b77c20b9",
   "metadata": {},
   "outputs": [],
   "source": [
    "user_prompt = \"tell me more about it\"\n",
    "result = agent.process_prompt(user_prompt)\n",
    "print(result)\n"
   ]
  },
  {
   "cell_type": "code",
   "execution_count": null,
   "id": "a90c54b4",
   "metadata": {},
   "outputs": [],
   "source": [
    "from TAI.genai import AWSBedrock\n",
    "ab = AWSBedrock()\n",
    "for i in ab.get_active_models():\n",
    "    print (i)\n",
    "#     print (i['modelId'])"
   ]
  }
 ],
 "metadata": {
  "kernelspec": {
   "display_name": "Python 3 (ipykernel)",
   "language": "python",
   "name": "python3"
  },
  "language_info": {
   "codemirror_mode": {
    "name": "ipython",
    "version": 3
   },
   "file_extension": ".py",
   "mimetype": "text/x-python",
   "name": "python",
   "nbconvert_exporter": "python",
   "pygments_lexer": "ipython3",
   "version": "3.11.5"
  }
 },
 "nbformat": 4,
 "nbformat_minor": 5
}
